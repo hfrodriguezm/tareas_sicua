{
 "cells": [
  {
   "cell_type": "markdown",
   "metadata": {},
   "source": [
    "<br>\n",
    "<center> <h2>Maestría en Inteligencia Analítica para la Toma de Decisiones</h2> </center>\n",
    "<center> <h3>Modelos avanzados para análisis de datos 1</h3> </center>\n",
    "<br>\n",
    "<h3>Exercise 13</h3>\n",
    "<h3>Analyze class homeworks</h3>\n",
    " \n",
    "\n",
    "##### Presentado por:\n",
    "    Lupe Pinzon Wagner                (200813063)\n",
    "    Diego Andres Ojeda Vargas         (201924250)\n",
    "    Héctor Fabián Rodríguez Mayorga   (201921382)\n",
    "    Iván josé Galindo Gaviria         (201924193)\n",
    "\n",
    " \n",
    "\n",
    "<h4> Julio 2020</h4>\n",
    "<br>"
   ]
  },
  {
   "cell_type": "code",
   "execution_count": 634,
   "metadata": {},
   "outputs": [
    {
     "data": {
      "text/html": [
       "<div>\n",
       "<style scoped>\n",
       "    .dataframe tbody tr th:only-of-type {\n",
       "        vertical-align: middle;\n",
       "    }\n",
       "\n",
       "    .dataframe tbody tr th {\n",
       "        vertical-align: top;\n",
       "    }\n",
       "\n",
       "    .dataframe thead th {\n",
       "        text-align: right;\n",
       "    }\n",
       "</style>\n",
       "<table border=\"1\" class=\"dataframe\">\n",
       "  <thead>\n",
       "    <tr style=\"text-align: right;\">\n",
       "      <th></th>\n",
       "      <th>Genero</th>\n",
       "      <th>E1 - Examples of Time Series Analysis</th>\n",
       "      <th>E4 - Panel Data</th>\n",
       "      <th>E6 - Decison Trees</th>\n",
       "      <th>E8 - Ensemble Trees Overview</th>\n",
       "      <th>E10 - REST-API</th>\n",
       "      <th>E11 - Natural Language Processing Overview</th>\n",
       "    </tr>\n",
       "  </thead>\n",
       "  <tbody>\n",
       "    <tr>\n",
       "      <th>0</th>\n",
       "      <td>M</td>\n",
       "      <td>One of the most valuable application of time s...</td>\n",
       "      <td>The main difference between panel data and tim...</td>\n",
       "      <td>Decision tree are a model used by the analytic...</td>\n",
       "      <td>They are used to make a better prediction than...</td>\n",
       "      <td>Es una forma de arquitectura de datos. Los mic...</td>\n",
       "      <td>NaN</td>\n",
       "    </tr>\n",
       "    <tr>\n",
       "      <th>1</th>\n",
       "      <td>F</td>\n",
       "      <td>ANÁLISIS DE SERIES DE TIEMPO – USOS \\nEl análi...</td>\n",
       "      <td>Series de Tiempo vs Datos en Panel\\nUna serie ...</td>\n",
       "      <td>TIPOS DE ÁRBOLES DE DECISIÓN Y APLICACIONES\\nL...</td>\n",
       "      <td>ENSAMBLAJE EN MACHINE LEARNING\\nLos métodos de...</td>\n",
       "      <td>Microservicios\\nEl objetivo principal de la im...</td>\n",
       "      <td>NaN</td>\n",
       "    </tr>\n",
       "    <tr>\n",
       "      <th>2</th>\n",
       "      <td>M</td>\n",
       "      <td>Una serie de tiempo es una colección de datos ...</td>\n",
       "      <td>NaN</td>\n",
       "      <td>los arboles de decisión hacen parte de los alg...</td>\n",
       "      <td>Ensemble methods is a machine learning techniq...</td>\n",
       "      <td>El enfoque tradicional para el diseño de aplic...</td>\n",
       "      <td>LexisNexis launched Lexis Analytics, a legal r...</td>\n",
       "    </tr>\n",
       "    <tr>\n",
       "      <th>3</th>\n",
       "      <td>M</td>\n",
       "      <td>\\nGiven that Time Series Analysis allows to un...</td>\n",
       "      <td>The difference between panel data and time ser...</td>\n",
       "      <td>Decision Trees Algorithms are machine function...</td>\n",
       "      <td>Ensemble methods in Tree Decision algorithms b...</td>\n",
       "      <td>Micro-services are defined as a type of softwa...</td>\n",
       "      <td>NaN</td>\n",
       "    </tr>\n",
       "    <tr>\n",
       "      <th>4</th>\n",
       "      <td>M</td>\n",
       "      <td>Time Series Analysis is concerned with the stu...</td>\n",
       "      <td>A time series is represented by a variable or ...</td>\n",
       "      <td>Decision trees are a popular supervised machin...</td>\n",
       "      <td>The ensemble method is a combination of severa...</td>\n",
       "      <td>A microservice is a type of information techno...</td>\n",
       "      <td>A commercial product which uses Natural Langua...</td>\n",
       "    </tr>\n",
       "  </tbody>\n",
       "</table>\n",
       "</div>"
      ],
      "text/plain": [
       "  Genero              E1 - Examples of Time Series Analysis  \\\n",
       "0      M  One of the most valuable application of time s...   \n",
       "1      F  ANÁLISIS DE SERIES DE TIEMPO – USOS \\nEl análi...   \n",
       "2      M  Una serie de tiempo es una colección de datos ...   \n",
       "3      M  \\nGiven that Time Series Analysis allows to un...   \n",
       "4      M  Time Series Analysis is concerned with the stu...   \n",
       "\n",
       "                                     E4 - Panel Data  \\\n",
       "0  The main difference between panel data and tim...   \n",
       "1  Series de Tiempo vs Datos en Panel\\nUna serie ...   \n",
       "2                                                NaN   \n",
       "3  The difference between panel data and time ser...   \n",
       "4  A time series is represented by a variable or ...   \n",
       "\n",
       "                                  E6 - Decison Trees  \\\n",
       "0  Decision tree are a model used by the analytic...   \n",
       "1  TIPOS DE ÁRBOLES DE DECISIÓN Y APLICACIONES\\nL...   \n",
       "2  los arboles de decisión hacen parte de los alg...   \n",
       "3  Decision Trees Algorithms are machine function...   \n",
       "4  Decision trees are a popular supervised machin...   \n",
       "\n",
       "                        E8 - Ensemble Trees Overview  \\\n",
       "0  They are used to make a better prediction than...   \n",
       "1  ENSAMBLAJE EN MACHINE LEARNING\\nLos métodos de...   \n",
       "2  Ensemble methods is a machine learning techniq...   \n",
       "3  Ensemble methods in Tree Decision algorithms b...   \n",
       "4  The ensemble method is a combination of severa...   \n",
       "\n",
       "                                      E10 - REST-API  \\\n",
       "0  Es una forma de arquitectura de datos. Los mic...   \n",
       "1  Microservicios\\nEl objetivo principal de la im...   \n",
       "2  El enfoque tradicional para el diseño de aplic...   \n",
       "3  Micro-services are defined as a type of softwa...   \n",
       "4  A microservice is a type of information techno...   \n",
       "\n",
       "          E11 - Natural Language Processing Overview  \n",
       "0                                                NaN  \n",
       "1                                                NaN  \n",
       "2  LexisNexis launched Lexis Analytics, a legal r...  \n",
       "3                                                NaN  \n",
       "4  A commercial product which uses Natural Langua...  "
      ]
     },
     "execution_count": 634,
     "metadata": {},
     "output_type": "execute_result"
    }
   ],
   "source": [
    "import pandas as pd\n",
    "import numpy as np\n",
    "\n",
    "%matplotlib inline\n",
    "import matplotlib.pyplot as plt\n",
    "\n",
    "data = pd.read_excel('Consolidado_respuestas_escribir_v2.xlsx')\n",
    "data.head()"
   ]
  },
  {
   "cell_type": "code",
   "execution_count": 635,
   "metadata": {
    "tags": []
   },
   "outputs": [
    {
     "name": "stdout",
     "output_type": "stream",
     "text": [
      "<class 'pandas.core.frame.DataFrame'>\n",
      "RangeIndex: 46 entries, 0 to 45\n",
      "Data columns (total 7 columns):\n",
      "Genero                                        46 non-null object\n",
      "E1 - Examples of Time Series Analysis         44 non-null object\n",
      "E4 - Panel Data                               44 non-null object\n",
      "E6 - Decison Trees                            42 non-null object\n",
      "E8 - Ensemble Trees Overview                  38 non-null object\n",
      "E10 - REST-API                                45 non-null object\n",
      "E11 - Natural Language Processing Overview    16 non-null object\n",
      "dtypes: object(7)\n",
      "memory usage: 2.6+ KB\n"
     ]
    }
   ],
   "source": [
    "data.info()"
   ]
  },
  {
   "cell_type": "markdown",
   "metadata": {},
   "source": [
    "# Exercise 13.1\n",
    "\n",
    "Analyze the writing patterns of each student"
   ]
  },
  {
   "cell_type": "code",
   "execution_count": 636,
   "metadata": {
    "tags": []
   },
   "outputs": [
    {
     "name": "stderr",
     "output_type": "stream",
     "text": [
      "[nltk_data] Downloading package wordnet to\n",
      "[nltk_data]     C:\\Users\\Lenovo\\AppData\\Roaming\\nltk_data...\n",
      "[nltk_data]   Package wordnet is already up-to-date!\n"
     ]
    }
   ],
   "source": [
    "import pandas as pd\n",
    "import numpy as np\n",
    "\n",
    "%matplotlib inline\n",
    "import matplotlib.pyplot as plt\n",
    "\n",
    "from sklearn.model_selection import train_test_split, cross_val_score\n",
    "from sklearn.feature_extraction.text import CountVectorizer, TfidfVectorizer\n",
    "from sklearn.ensemble import RandomForestClassifier\n",
    "from nltk.stem.snowball import SnowballStemmer\n",
    "from nltk.stem import WordNetLemmatizer\n",
    "\n",
    "from nltk.stem import WordNetLemmatizer\n",
    "import nltk\n",
    "nltk.download('wordnet')\n",
    "wordnet_lemmatizer = WordNetLemmatizer()\n",
    "stemmer = SnowballStemmer('spanish')\n",
    "\n",
    "from scipy.spatial.distance import cosine"
   ]
  },
  {
   "cell_type": "markdown",
   "metadata": {},
   "source": [
    "Cambiamos los headers del dataframe para un manejo mas sencillo:"
   ]
  },
  {
   "cell_type": "code",
   "execution_count": 637,
   "metadata": {},
   "outputs": [
    {
     "data": {
      "text/html": [
       "<div>\n",
       "<style scoped>\n",
       "    .dataframe tbody tr th:only-of-type {\n",
       "        vertical-align: middle;\n",
       "    }\n",
       "\n",
       "    .dataframe tbody tr th {\n",
       "        vertical-align: top;\n",
       "    }\n",
       "\n",
       "    .dataframe thead th {\n",
       "        text-align: right;\n",
       "    }\n",
       "</style>\n",
       "<table border=\"1\" class=\"dataframe\">\n",
       "  <thead>\n",
       "    <tr style=\"text-align: right;\">\n",
       "      <th></th>\n",
       "      <th>Genero</th>\n",
       "      <th>E1</th>\n",
       "      <th>E4</th>\n",
       "      <th>E6</th>\n",
       "      <th>E8</th>\n",
       "      <th>E10</th>\n",
       "      <th>E11</th>\n",
       "    </tr>\n",
       "  </thead>\n",
       "  <tbody>\n",
       "    <tr>\n",
       "      <th>0</th>\n",
       "      <td>M</td>\n",
       "      <td>One of the most valuable application of time s...</td>\n",
       "      <td>The main difference between panel data and tim...</td>\n",
       "      <td>Decision tree are a model used by the analytic...</td>\n",
       "      <td>They are used to make a better prediction than...</td>\n",
       "      <td>Es una forma de arquitectura de datos. Los mic...</td>\n",
       "      <td>NaN</td>\n",
       "    </tr>\n",
       "    <tr>\n",
       "      <th>1</th>\n",
       "      <td>F</td>\n",
       "      <td>ANÁLISIS DE SERIES DE TIEMPO – USOS \\nEl análi...</td>\n",
       "      <td>Series de Tiempo vs Datos en Panel\\nUna serie ...</td>\n",
       "      <td>TIPOS DE ÁRBOLES DE DECISIÓN Y APLICACIONES\\nL...</td>\n",
       "      <td>ENSAMBLAJE EN MACHINE LEARNING\\nLos métodos de...</td>\n",
       "      <td>Microservicios\\nEl objetivo principal de la im...</td>\n",
       "      <td>NaN</td>\n",
       "    </tr>\n",
       "    <tr>\n",
       "      <th>2</th>\n",
       "      <td>M</td>\n",
       "      <td>Una serie de tiempo es una colección de datos ...</td>\n",
       "      <td>NaN</td>\n",
       "      <td>los arboles de decisión hacen parte de los alg...</td>\n",
       "      <td>Ensemble methods is a machine learning techniq...</td>\n",
       "      <td>El enfoque tradicional para el diseño de aplic...</td>\n",
       "      <td>LexisNexis launched Lexis Analytics, a legal r...</td>\n",
       "    </tr>\n",
       "    <tr>\n",
       "      <th>3</th>\n",
       "      <td>M</td>\n",
       "      <td>\\nGiven that Time Series Analysis allows to un...</td>\n",
       "      <td>The difference between panel data and time ser...</td>\n",
       "      <td>Decision Trees Algorithms are machine function...</td>\n",
       "      <td>Ensemble methods in Tree Decision algorithms b...</td>\n",
       "      <td>Micro-services are defined as a type of softwa...</td>\n",
       "      <td>NaN</td>\n",
       "    </tr>\n",
       "    <tr>\n",
       "      <th>4</th>\n",
       "      <td>M</td>\n",
       "      <td>Time Series Analysis is concerned with the stu...</td>\n",
       "      <td>A time series is represented by a variable or ...</td>\n",
       "      <td>Decision trees are a popular supervised machin...</td>\n",
       "      <td>The ensemble method is a combination of severa...</td>\n",
       "      <td>A microservice is a type of information techno...</td>\n",
       "      <td>A commercial product which uses Natural Langua...</td>\n",
       "    </tr>\n",
       "  </tbody>\n",
       "</table>\n",
       "</div>"
      ],
      "text/plain": [
       "  Genero                                                 E1  \\\n",
       "0      M  One of the most valuable application of time s...   \n",
       "1      F  ANÁLISIS DE SERIES DE TIEMPO – USOS \\nEl análi...   \n",
       "2      M  Una serie de tiempo es una colección de datos ...   \n",
       "3      M  \\nGiven that Time Series Analysis allows to un...   \n",
       "4      M  Time Series Analysis is concerned with the stu...   \n",
       "\n",
       "                                                  E4  \\\n",
       "0  The main difference between panel data and tim...   \n",
       "1  Series de Tiempo vs Datos en Panel\\nUna serie ...   \n",
       "2                                                NaN   \n",
       "3  The difference between panel data and time ser...   \n",
       "4  A time series is represented by a variable or ...   \n",
       "\n",
       "                                                  E6  \\\n",
       "0  Decision tree are a model used by the analytic...   \n",
       "1  TIPOS DE ÁRBOLES DE DECISIÓN Y APLICACIONES\\nL...   \n",
       "2  los arboles de decisión hacen parte de los alg...   \n",
       "3  Decision Trees Algorithms are machine function...   \n",
       "4  Decision trees are a popular supervised machin...   \n",
       "\n",
       "                                                  E8  \\\n",
       "0  They are used to make a better prediction than...   \n",
       "1  ENSAMBLAJE EN MACHINE LEARNING\\nLos métodos de...   \n",
       "2  Ensemble methods is a machine learning techniq...   \n",
       "3  Ensemble methods in Tree Decision algorithms b...   \n",
       "4  The ensemble method is a combination of severa...   \n",
       "\n",
       "                                                 E10  \\\n",
       "0  Es una forma de arquitectura de datos. Los mic...   \n",
       "1  Microservicios\\nEl objetivo principal de la im...   \n",
       "2  El enfoque tradicional para el diseño de aplic...   \n",
       "3  Micro-services are defined as a type of softwa...   \n",
       "4  A microservice is a type of information techno...   \n",
       "\n",
       "                                                 E11  \n",
       "0                                                NaN  \n",
       "1                                                NaN  \n",
       "2  LexisNexis launched Lexis Analytics, a legal r...  \n",
       "3                                                NaN  \n",
       "4  A commercial product which uses Natural Langua...  "
      ]
     },
     "execution_count": 637,
     "metadata": {},
     "output_type": "execute_result"
    }
   ],
   "source": [
    "new_names={\"E1 - Examples of Time Series Analysis\" : \"E1\",\n",
    "            \"E4 - Panel Data\" : \"E4\",\n",
    "            \"E6 - Decison Trees\" : \"E6\",\n",
    "            \"E8 - Ensemble Trees Overview\" : \"E8\",\n",
    "            \"E10 - REST-API\" : \"E10\",\n",
    "            \"E11 - Natural Language Processing Overview\" : \"E11\"\n",
    "            } \n",
    "\n",
    "data = data.rename(columns=new_names)\n",
    "data.head()"
   ]
  },
  {
   "cell_type": "markdown",
   "metadata": {},
   "source": [
    "Unimos las tareas que escribió cada estudiantes:"
   ]
  },
  {
   "cell_type": "code",
   "execution_count": 638,
   "metadata": {
    "tags": []
   },
   "outputs": [],
   "source": [
    "estudiantes = []\n",
    "T=\"\"\n",
    "for est in range(0,46):\n",
    "    T=\"\"\n",
    "    for tarea in range(1,7):\n",
    "        if pd.isnull(data.loc[est][tarea]):\n",
    "            x=1\n",
    "        else:\n",
    "            T = T + data.loc[est][tarea]\n",
    "    estudiantes.append(T)\n",
    "\n",
    "estudiantes=pd.DataFrame(estudiantes)\n",
    "estudiantes.columns=[\"Tareas\"]"
   ]
  },
  {
   "cell_type": "code",
   "execution_count": 639,
   "metadata": {},
   "outputs": [],
   "source": [
    "X=estudiantes.Tareas"
   ]
  },
  {
   "cell_type": "code",
   "execution_count": 640,
   "metadata": {},
   "outputs": [],
   "source": [
    "for i in range(0,len(X)):\n",
    "  X[i] = str(X[i]).replace(\"'\",\"\")\n",
    "  X[i] = str(X[i]).replace(\".\",\"\")\n",
    "  X[i] = str(X[i]).replace(\"]\",\"\")\n",
    "  X[i] = str(X[i]).replace(\"[\",\"\")\n",
    "  X[i] = str(X[i]).replace(\":\",\"\")\n",
    "  X[i] = str(X[i]).replace(\"/\",\"\")\n",
    "  X[i] = str(X[i]).replace(\"-\",\"\")\n",
    "  X[i] = str(X[i]).replace(\"?\",\"\")\n",
    "  X[i] = str(X[i]).replace(\"¿\",\"\")\n",
    "  X[i] = str(X[i]).replace(\",\",\"\")\n",
    "  X[i] = str(X[i]).replace(\"(\",\"\")\n",
    "  X[i] = str(X[i]).replace(\")\",\"\")\n",
    "  X[i] = str(X[i]).replace(\"<\",\"\")\n",
    "  X[i] = str(X[i]).replace(\">\",\"\")\n",
    "  X[i] = str(X[i]).replace('\\n', ' ').replace('\\r', '')"
   ]
  },
  {
   "cell_type": "code",
   "execution_count": 641,
   "metadata": {},
   "outputs": [
    {
     "data": {
      "text/plain": [
       "'One of the most valuable application of time series analysis is the financial one Due to the amount of information that is given by market in different time periods a stock price could give information by seconds minutes hours days On the other hand there are variables that give information in a weekly basis oil inventories a monthly basis PMI consumer index or in a yearly or quarterly basis economic growth sales income and other financial indicators from a company For that reason there are three great examples of time series analysis given forward on the financial field  As an example the financial time series ie stock prices rates sales could be predicted with an ARIMA model As they want to know patrons to predict the future The stock prices for example has a trend it is explained with the inflation rate the economic growth and the consumer consumption   Another application is the one that gave the financial market to moving averages as a great approximation to understand the price behavior as part of the technical analysis As it could gave information about the trend it is widely said if the moving averages of a stock prices are sorted ascending Moving Average 200  Moving Average 100  Moving Average 50 the stock price trend is bullish  The derivatives market also uses time series analysis to measure volatility in that case a General Autoregressive conditional heteroscedasticity model gain importance as it has the power to give more precision As part of the derivatives valuation it is important to know the volatility due to it is one of the components to calculate the fair price Thus the General Autoregressive conditional heteroscedasticity could be used as predictor to the implied volatility to get the future price of a derivative in the financial marketThe main difference between panel data and time series is the kind of data IE time series is a single observation of a variable instead panel data is a collection of single observations of variables across the time So we can conclude that panel data is a collection of time seriesDecision tree are a model used by the analytics community It is used to make easier the way to decide something It involves probabilities to measure the possible outcomes it will have It is an algorithm that only have conditional control systems  Each node represents a test each branch represents the outcome of the test and each leaf node represents the class label Trees based algorithms is one of the most useful in machine learning supervised methods It maps nonlinear relationships in a very useful way  Some methods based on decision trees are random forest gradient boosting and they are used all day in data science problems   The common terms in decision trees are root node that represents the entire population splitting the process that divides a node in two or more decision node when a sub node splits in more sub nodes it is called decision node leaf or terminal node the nodes that does not split pruning when it is removed some sub nodes of a decision node  Usually the target variable is categorical and the decision tree calculate the probability that given a given record belong to each category or to classify the record by assigning it to the most likely class It is also used to estimate the value of a continuous target variable  Some applications are when the user is trying to maximize or to optimize something When there are several ways to action a project There are some events beyond the control of the decision maker Evaluation of brand expansion opportunities for a business using historical sales data Determination of likely buyers of a product using demographic data to enable targeting of limited advertisement budget Prediction of likelihood of default for applicant borrowers using predictive models generated from historical data Decision trees are commonly used in operations research specifically in decision analysis to help identify a strategy most likely to reach a goalThey are used to make a better prediction than utilizing a single one \"The main principle behind the ensemble model is that a group of weak learners come together to form a strong learner\"  There are two main ensemble techniques boosting and bagging   If the objective is reducing the model’s variance it is used bagging As a result average of all the predictions from different trees are used which is more robust than a single decision tree One extension of bagging is the random forest technique as there are a lot of random subset of data each one takes a tree Some advantages of using Random Forest technique are handles higher dimensionality data very well and Handles missing values and maintains accuracy for missing data On the other hand some disadvantages of using Random Forest technique are Since final prediction is based on the mean predictions from subset trees it won’t give precise values for the regression model  Boosting are a technique to create a collection of predictors in this technique learners are learned sequentially with early learners fitting simple models to the data and then analyzing data for errors In other words we fit consecutive trees random sample and at every step the goal is to solve for net error from the prior tree Some advantages of using Gradient Boosting techniques are supports different loss function and works well with interactions On the other hand disadvantages include prone to overfitting and requires careful tuning of different hyperparameters  So in summary the ensemble methods allow a combination of models that make a better assumption about the data science problem as some of the best predictions in one of them could be a better fit on other one Ensemble methods are important because they cover the falls for some on them and improve it with the success of other onesEs una forma de arquitectura de datos Los microservicios hacen que las aplicaciones dividan sus elementos más pequeños e independientes entre sí Los microservicios a diferencia de los servicios tradicionales son servicios independientes que llevan a cabo las mismas tareas Cada uno de los procesos independientes es un microservicio  Con este enfoque lo que se busca es valorar cada uno de los detalles y hacer que así haya una configuraciòn de optimización para compartir la capacidad y sencillez de varias aplicaciones Es un modelo fundamental para la migración hacía la nube de las aplicaciones tradicionales  No basta con dividir las aplicaciones en microservicios lo que se debe hacer es coordinar administrar y gestionarlos para que sean una mejor aproximación que el enfoque tradicional   Entre las ventajas de los microservicios están aplicaciones listas para comercializarse más rápido gran capacidad de expasión capacidad de recuperación facilidad de implementación accesibilidad y aplicaciones más abiertas Así con los microservicios se logra que cada una de estas pequeñas aplicaciones puedan ser desarrolladas en el mejor lenguaje de programación y la tecnología aplicable  Sin embargo los desafios que presentan son Diseño se debe invertir tiempo y recursos en la interacción de los diferentes microservicios pruebas se deben hacer pruebas más complejas debido a la misma razón control de versiones al ser muchas y divididas puede perderse compatibilidad entre ellas de version a version implementación es un desafio mientras se logra la automatización total de los microservicios registro se necesitan registros centralizados para saber còmo integrar todos los elementos Monitoreo es indispensable para tener una versión centralizada   En resumen aunque los microservicios son una forma más eficiente de hacer las cosas también presenta desafios ya que es justamente su fortaleza la de tener divisibilidad y adaptabilidad lo que hace que deba haber un monitoreo constante para el correcto funcionamiento'"
      ]
     },
     "execution_count": 641,
     "metadata": {},
     "output_type": "execute_result"
    }
   ],
   "source": [
    "X[0]"
   ]
  },
  {
   "cell_type": "code",
   "execution_count": 642,
   "metadata": {},
   "outputs": [],
   "source": [
    "# use CountVectorizer to create document-term matrices from X\n",
    "vect = CountVectorizer()\n",
    "X_dtm = vect.fit_transform(X)"
   ]
  },
  {
   "cell_type": "code",
   "execution_count": 643,
   "metadata": {},
   "outputs": [
    {
     "data": {
      "text/plain": [
       "(46, 7592)"
      ]
     },
     "execution_count": 643,
     "metadata": {},
     "output_type": "execute_result"
    }
   ],
   "source": [
    "# rows are documents, columns are terms (aka \"tokens\" or \"features\")\n",
    "X_dtm.shape"
   ]
  },
  {
   "cell_type": "code",
   "execution_count": 644,
   "metadata": {
    "tags": []
   },
   "outputs": [
    {
     "name": "stdout",
     "output_type": "stream",
     "text": [
      "['vías', 'vídeo', 'vínculos', 'wait', 'wang', 'want', 'war', 'warming', 'was', 'waste', 'watersand', 'watson', 'way', 'ways', 'we', 'weak', 'weakly', 'weather', 'web', 'webservice', 'website', 'week', 'weekends', 'weekly', 'weeks', 'weight', 'weighted', 'weights', 'well', 'welldefined', 'wellhead', 'wells', 'went', 'were', 'what', 'wheater', 'when', 'where', 'whereas', 'whether', 'which', 'while', 'whit', 'whitaker', 'who', 'whole', 'wholesale', 'whose', 'why', 'widely']\n"
     ]
    }
   ],
   "source": [
    "# last 50 features\n",
    "print(vect.get_feature_names()[-150:-100])"
   ]
  },
  {
   "cell_type": "code",
   "execution_count": 645,
   "metadata": {
    "tags": []
   },
   "outputs": [],
   "source": [
    " #Creamos un diccionario de palabras en ingles\n",
    " english_vocab = set(w.lower() for w in nltk.corpus.words.words())"
   ]
  },
  {
   "cell_type": "markdown",
   "metadata": {},
   "source": [
    "Definimos la funcion que extrae raices dependiendo si la palabra esta en ingles o en español"
   ]
  },
  {
   "cell_type": "code",
   "execution_count": 646,
   "metadata": {
    "tags": []
   },
   "outputs": [
    {
     "name": "stderr",
     "output_type": "stream",
     "text": [
      "[nltk_data] Downloading package wordnet to\n",
      "[nltk_data]     C:\\Users\\Lenovo\\AppData\\Roaming\\nltk_data...\n",
      "[nltk_data]   Package wordnet is already up-to-date!\n"
     ]
    }
   ],
   "source": [
    "import nltk\n",
    "from nltk.stem import WordNetLemmatizer\n",
    "from nltk import wordpunct_tokenize\n",
    "from nltk.corpus import stopwords\n",
    "import nltk\n",
    "\n",
    "# Extractor de raices en español\n",
    "from nltk.stem.snowball import SnowballStemmer\n",
    "spanishStemmer=SnowballStemmer(\"spanish\")\n",
    "\n",
    "#Extractor de raices en ingles\n",
    "nltk.download('wordnet')\n",
    "wordnet_lemmatizer = WordNetLemmatizer()\n",
    "\n",
    "# Busca en diccionario en ingles\n",
    "english_vocab = set(w.lower() for w in nltk.corpus.words.words())\n",
    "\n",
    "def split_into_lemmas_both(text):\n",
    "    text = text.lower()\n",
    "    words = text.split()\n",
    "    for word in words:\n",
    "        if word in english_vocab:\n",
    "            return [wordnet_lemmatizer.lemmatize(word) for word in words]\n",
    "        else:\n",
    "            return [spanishStemmer.stem(word) for word in words]"
   ]
  },
  {
   "cell_type": "markdown",
   "metadata": {},
   "source": [
    "Definimos la lista de stop words que usaremos:"
   ]
  },
  {
   "cell_type": "code",
   "execution_count": 647,
   "metadata": {
    "tags": []
   },
   "outputs": [
    {
     "name": "stderr",
     "output_type": "stream",
     "text": [
      "[nltk_data] Downloading package stopwords to\n",
      "[nltk_data]     C:\\Users\\Lenovo\\AppData\\Roaming\\nltk_data...\n",
      "[nltk_data]   Package stopwords is already up-to-date!\n"
     ]
    }
   ],
   "source": [
    "nltk.download('stopwords')\n",
    "\n",
    "final_stopwords_list = stopwords.words('english') + stopwords.words('spanish')\n"
   ]
  },
  {
   "cell_type": "markdown",
   "metadata": {},
   "source": [
    "Aplicamos la funcion vectorizadora, usando:\n",
    "* Stop words en español y en ingles.\n",
    "* n-gramas entre 1 y 2 palabras.\n",
    "* extractor de raices en ingles y español, segun corresponda.\n",
    "* Solo se escogeran maximo 500 parabras (las de mayor frecuencia)"
   ]
  },
  {
   "cell_type": "code",
   "execution_count": 648,
   "metadata": {
    "tags": []
   },
   "outputs": [
    {
     "data": {
      "text/plain": [
       "(46, 500)"
      ]
     },
     "execution_count": 648,
     "metadata": {},
     "output_type": "execute_result"
    }
   ],
   "source": [
    "vect = TfidfVectorizer(stop_words=final_stopwords_list,ngram_range=(1, 2),analyzer=split_into_lemmas_both,binary=True,max_features=500)\n",
    "X_dtm = vect.fit_transform(X)\n",
    "X_dtm.shape"
   ]
  },
  {
   "cell_type": "code",
   "execution_count": 649,
   "metadata": {
    "scrolled": true
   },
   "outputs": [
    {
     "data": {
      "text/html": [
       "<div>\n",
       "<style scoped>\n",
       "    .dataframe tbody tr th:only-of-type {\n",
       "        vertical-align: middle;\n",
       "    }\n",
       "\n",
       "    .dataframe tbody tr th {\n",
       "        vertical-align: top;\n",
       "    }\n",
       "\n",
       "    .dataframe thead th {\n",
       "        text-align: right;\n",
       "    }\n",
       "</style>\n",
       "<table border=\"1\" class=\"dataframe\">\n",
       "  <thead>\n",
       "    <tr style=\"text-align: right;\">\n",
       "      <th></th>\n",
       "      <th>1</th>\n",
       "      <th>2</th>\n",
       "      <th>3</th>\n",
       "      <th>4</th>\n",
       "      <th>a</th>\n",
       "      <th>además</th>\n",
       "      <th>adicional</th>\n",
       "      <th>afectar</th>\n",
       "      <th>al</th>\n",
       "      <th>algorithm</th>\n",
       "      <th>...</th>\n",
       "      <th>when</th>\n",
       "      <th>which</th>\n",
       "      <th>with</th>\n",
       "      <th>y</th>\n",
       "      <th>ya</th>\n",
       "      <th>yo</th>\n",
       "      <th>árbol</th>\n",
       "      <th>árboles</th>\n",
       "      <th>único</th>\n",
       "      <th>•</th>\n",
       "    </tr>\n",
       "  </thead>\n",
       "  <tbody>\n",
       "    <tr>\n",
       "      <th>0</th>\n",
       "      <td>0.000000</td>\n",
       "      <td>0.000000</td>\n",
       "      <td>0.000000</td>\n",
       "      <td>0.0</td>\n",
       "      <td>0.043064</td>\n",
       "      <td>0.0</td>\n",
       "      <td>0.000000</td>\n",
       "      <td>0.000000</td>\n",
       "      <td>0.051099</td>\n",
       "      <td>0.105604</td>\n",
       "      <td>...</td>\n",
       "      <td>0.095219</td>\n",
       "      <td>0.098410</td>\n",
       "      <td>0.089469</td>\n",
       "      <td>0.047908</td>\n",
       "      <td>0.062398</td>\n",
       "      <td>0.0</td>\n",
       "      <td>0.0</td>\n",
       "      <td>0.0</td>\n",
       "      <td>0.0</td>\n",
       "      <td>0.000000</td>\n",
       "    </tr>\n",
       "    <tr>\n",
       "      <th>1</th>\n",
       "      <td>0.053617</td>\n",
       "      <td>0.051180</td>\n",
       "      <td>0.054901</td>\n",
       "      <td>0.0</td>\n",
       "      <td>0.035322</td>\n",
       "      <td>0.0</td>\n",
       "      <td>0.086618</td>\n",
       "      <td>0.000000</td>\n",
       "      <td>0.041912</td>\n",
       "      <td>0.000000</td>\n",
       "      <td>...</td>\n",
       "      <td>0.000000</td>\n",
       "      <td>0.000000</td>\n",
       "      <td>0.000000</td>\n",
       "      <td>0.039295</td>\n",
       "      <td>0.000000</td>\n",
       "      <td>0.0</td>\n",
       "      <td>0.0</td>\n",
       "      <td>0.0</td>\n",
       "      <td>0.0</td>\n",
       "      <td>0.000000</td>\n",
       "    </tr>\n",
       "    <tr>\n",
       "      <th>2</th>\n",
       "      <td>0.054602</td>\n",
       "      <td>0.052121</td>\n",
       "      <td>0.055911</td>\n",
       "      <td>0.0</td>\n",
       "      <td>0.035971</td>\n",
       "      <td>0.0</td>\n",
       "      <td>0.000000</td>\n",
       "      <td>0.088211</td>\n",
       "      <td>0.000000</td>\n",
       "      <td>0.088211</td>\n",
       "      <td>...</td>\n",
       "      <td>0.079536</td>\n",
       "      <td>0.082202</td>\n",
       "      <td>0.074733</td>\n",
       "      <td>0.040017</td>\n",
       "      <td>0.000000</td>\n",
       "      <td>0.0</td>\n",
       "      <td>0.0</td>\n",
       "      <td>0.0</td>\n",
       "      <td>0.0</td>\n",
       "      <td>0.082202</td>\n",
       "    </tr>\n",
       "    <tr>\n",
       "      <th>3</th>\n",
       "      <td>0.000000</td>\n",
       "      <td>0.000000</td>\n",
       "      <td>0.000000</td>\n",
       "      <td>0.0</td>\n",
       "      <td>0.051813</td>\n",
       "      <td>0.0</td>\n",
       "      <td>0.000000</td>\n",
       "      <td>0.000000</td>\n",
       "      <td>0.000000</td>\n",
       "      <td>0.127058</td>\n",
       "      <td>...</td>\n",
       "      <td>0.114563</td>\n",
       "      <td>0.118403</td>\n",
       "      <td>0.107644</td>\n",
       "      <td>0.000000</td>\n",
       "      <td>0.000000</td>\n",
       "      <td>0.0</td>\n",
       "      <td>0.0</td>\n",
       "      <td>0.0</td>\n",
       "      <td>0.0</td>\n",
       "      <td>0.118403</td>\n",
       "    </tr>\n",
       "    <tr>\n",
       "      <th>4</th>\n",
       "      <td>0.000000</td>\n",
       "      <td>0.070049</td>\n",
       "      <td>0.000000</td>\n",
       "      <td>0.0</td>\n",
       "      <td>0.048345</td>\n",
       "      <td>0.0</td>\n",
       "      <td>0.000000</td>\n",
       "      <td>0.000000</td>\n",
       "      <td>0.057365</td>\n",
       "      <td>0.118553</td>\n",
       "      <td>...</td>\n",
       "      <td>0.106894</td>\n",
       "      <td>0.110477</td>\n",
       "      <td>0.100439</td>\n",
       "      <td>0.000000</td>\n",
       "      <td>0.000000</td>\n",
       "      <td>0.0</td>\n",
       "      <td>0.0</td>\n",
       "      <td>0.0</td>\n",
       "      <td>0.0</td>\n",
       "      <td>0.000000</td>\n",
       "    </tr>\n",
       "  </tbody>\n",
       "</table>\n",
       "<p>5 rows × 500 columns</p>\n",
       "</div>"
      ],
      "text/plain": [
       "          1         2         3    4         a  además  adicional   afectar  \\\n",
       "0  0.000000  0.000000  0.000000  0.0  0.043064     0.0   0.000000  0.000000   \n",
       "1  0.053617  0.051180  0.054901  0.0  0.035322     0.0   0.086618  0.000000   \n",
       "2  0.054602  0.052121  0.055911  0.0  0.035971     0.0   0.000000  0.088211   \n",
       "3  0.000000  0.000000  0.000000  0.0  0.051813     0.0   0.000000  0.000000   \n",
       "4  0.000000  0.070049  0.000000  0.0  0.048345     0.0   0.000000  0.000000   \n",
       "\n",
       "         al  algorithm  ...      when     which      with         y        ya  \\\n",
       "0  0.051099   0.105604  ...  0.095219  0.098410  0.089469  0.047908  0.062398   \n",
       "1  0.041912   0.000000  ...  0.000000  0.000000  0.000000  0.039295  0.000000   \n",
       "2  0.000000   0.088211  ...  0.079536  0.082202  0.074733  0.040017  0.000000   \n",
       "3  0.000000   0.127058  ...  0.114563  0.118403  0.107644  0.000000  0.000000   \n",
       "4  0.057365   0.118553  ...  0.106894  0.110477  0.100439  0.000000  0.000000   \n",
       "\n",
       "    yo  árbol  árboles  único         •  \n",
       "0  0.0    0.0      0.0    0.0  0.000000  \n",
       "1  0.0    0.0      0.0    0.0  0.000000  \n",
       "2  0.0    0.0      0.0    0.0  0.082202  \n",
       "3  0.0    0.0      0.0    0.0  0.118403  \n",
       "4  0.0    0.0      0.0    0.0  0.000000  \n",
       "\n",
       "[5 rows x 500 columns]"
      ]
     },
     "execution_count": 649,
     "metadata": {},
     "output_type": "execute_result"
    }
   ],
   "source": [
    "Tabla_Frecuencias_Est=pd.DataFrame(X_dtm.toarray(), columns=vect.get_feature_names())\n",
    "Tabla_Frecuencias_Est.head()"
   ]
  },
  {
   "cell_type": "markdown",
   "metadata": {},
   "source": [
    "Funcion que devuelve el top-20 de las parabras de un alumno"
   ]
  },
  {
   "cell_type": "code",
   "execution_count": 650,
   "metadata": {},
   "outputs": [],
   "source": [
    "def top_10(id_alumno):\n",
    "    # choose a random text\n",
    "    review_id = id_alumno\n",
    "    review_text = X[review_id]\n",
    "    review_length = len(review_text)\n",
    "\n",
    "    # create a dictionary of words and their TF-IDF scores\n",
    "    features = vect.get_feature_names()\n",
    "    word_scores = {}\n",
    "    for word in vect.vocabulary_.keys():\n",
    "        word = word.lower()\n",
    "        if word in features:\n",
    "            word_scores[word] = X_dtm[review_id, features.index(word)]\n",
    "\n",
    "    # print words with the top 10 TF-IDF scores\n",
    "    #print('TOP SCORING WORDS:')\n",
    "    Top_Words = \"\"\n",
    "    top_scores = sorted(word_scores.items(), key=lambda x: x[1], reverse=True)[:20]\n",
    "    for word, score in top_scores:\n",
    "        Top_Words=Top_Words+\" \"+word\n",
    "\n",
    "    return Top_Words"
   ]
  },
  {
   "cell_type": "markdown",
   "metadata": {},
   "source": [
    "Crearemos un dataframe con el Top-20 de palabras de cada alumno:"
   ]
  },
  {
   "cell_type": "code",
   "execution_count": 651,
   "metadata": {
    "tags": []
   },
   "outputs": [],
   "source": [
    "Top_Words_by_Est = []\n",
    "\n",
    "for est in range(0,46):\n",
    "    Top_Words_by_Est.append(top_10(est))"
   ]
  },
  {
   "cell_type": "code",
   "execution_count": 652,
   "metadata": {},
   "outputs": [
    {
     "data": {
      "text/plain": [
       "[' us important hacen index more have algorithm prediction tradicional ellas one there from example they we system business ensemble capacidad',\n",
       " ' futur promedi individu funcional produccion index ellas identific obten podr larg may busc objet defin proces supervis regresion ventaj numer',\n",
       " ' hacen algorithm prediction tradicional may independent particular podría lugar usados crear c45 precisión implementar afectar equipos falla one there from',\n",
       " ' important more have algorithm prediction may independent one there from example we system business ensemble bootstrap interface by if each',\n",
       " ' us important how more have algorithm prediction may independent c45 one there from example they we system business ensemble much',\n",
       " ' us important how have algorithm usados crear importante peso problema lenguajes one there example they system debido interval funciones clase',\n",
       " ' utilizan tradicional original importante peso entender muestra muestras utilizar casos debido pib utilizados funciones bootstrap interface realiza decir mediante permiten',\n",
       " ' utilizan orden ellas ese podría equipos falla peso utilizar casos espacio sesgo buen desarrollar 4 gestión red business ensemble capacidad',\n",
       " ' individu prim predec aument grand identific podr busc supervis regresion ventaj numer adicional cualqui caracterist varianz efect escal softwar reduc',\n",
       " ' promedi funcional produccion orden aument larg proces supervis regresion ventaj numer trabaj escal c45 softwar nod gener clasif dad cre',\n",
       " ' tradicional usados c45 precisión afectar equipos falla lenguajes entender desarrollar 4 tal yo tres necesario capacidad debido pib partir demás',\n",
       " ' hacen utilizan original podría lugar crear implementar afectar peso problema desarrollar gestión muchos beneficios capacidad utilizados bootstrap generalmente permiten utiliza',\n",
       " ' individu aument grand ellas identific obten larg objet defin regresion numer adicional determin cualqui caracterist tambien varianz trabaj escal red',\n",
       " ' futur produccion prim predec aument identific obten podr larg defin ese buen vent gener capac maner asi posibl algun combin',\n",
       " ' hacen prediction particular podría usados crear precisión falla problema entender muestras espacio sesgo tal necesario muchos técnicas capacidad stacking partir',\n",
       " ' utilizan orden tradicional original lugar usados crear c45 implementar falla peso muestra utilizar casos espacio desarrollar 4 tal tres muchos',\n",
       " ' futur promedi individu funcional predec grand ellas identific obten busc objet defin proces supervis ventaj numer adicional determin cualqui caracterist',\n",
       " ' futur individu funcional prim predec aument obten podr may busc proces supervis regresion determin tambien efect independent lugar softwar nod',\n",
       " ' more prediction usados c45 precisión lenguajes utilizar gestión necesario beneficios there from example they capacidad interval depend demás clase generalmente',\n",
       " ' us important produccion how orden grand index tradicional identific obten objet defin proces regresion ventaj tambien varianz efect original escal',\n",
       " ' us how index more have algorithm prediction adicional podría usados implementar equipos importante muestra casos espacio buen desarrollar muchos beneficios',\n",
       " ' hacen tradicional podría usados implementar afectar lenguajes muestra utilizar casos tres necesario beneficios técnicas ensemble capacidad debido partir utilizados demás',\n",
       " ' ellas original particular lugar precisión implementar afectar equipos falla peso problema lenguajes muestra muestras utilizar espacio sesgo muchos beneficios técnicas',\n",
       " ' important how larg independent one from they we system business reduc by if each method several which combin person use',\n",
       " ' adicional ese podría lugar afectar equipos falla entender muestra desarrollar gestión muchos beneficios técnicas demás clase generalmente decir da único',\n",
       " ' have prediction may independent lugar crear importante lenguajes entender muestra muestras casos 4 gestión red muchos there from example we',\n",
       " ' us important hacen how more algorithm prediction original independent importante lenguajes muestras utilizar sesgo gestión one there example we demás',\n",
       " ' us how index more have algorithm may independent 4 there from example they we business interval much bootstrap apis by',\n",
       " ' promedi individu funcional orden prim predec podr larg busc defin proces supervis numer adicional determin tambien escal lugar buen nod',\n",
       " ' futur produccion orden grand obten larg objet supervis ventaj determin cualqui caracterist trabaj softwar nod analiz dad comun unic necesari',\n",
       " ' utilizan adicional particular usados crear c45 precisión implementar afectar equipos peso problema muestra muestras casos espacio sesgo buen desarrollar gestión',\n",
       " ' orden particular equipos lenguajes entender yo necesario interface único caso distintos principales periodos desde procesos programación cuales ventas producto proceso',\n",
       " ' hacen utilizan original podría afectar falla importante lenguajes entender muestras utilizar casos espacio sesgo gestión yo necesario muchos ensemble debido',\n",
       " ' futur produccion predec grand identific podr busc objet defin supervis regresion ventaj cualqui tambien varianz efect trabaj ese particular buen',\n",
       " ' futur promedi individu prim predec aument grand tradicional obten podr busc objet defin proces supervis regresion ventaj numer determin cualqui',\n",
       " ' us how utilizan index more have algorithm ellas lugar crear precisión equipos problema entender muestra muestras casos sesgo desarrollar 4',\n",
       " ' utilizan index adicional particular crear falla peso problema muestras espacio sesgo desarrollar red tal necesario técnicas partir utilizados clase decir',\n",
       " ' promedi individu funcional produccion prim ellas identific podr larg regresion ventaj numer determin cualqui caracterist tambien efect ese softwar yo',\n",
       " ' us important index more have algorithm prediction may independent one there from example they we business ensemble much bootstrap by',\n",
       " ' promedi individu funcional prim predec aument grand index identific obten busc objet proces numer determin cualqui caracterist tambien varianz efect',\n",
       " ' hacen adicional podría importante entender muestra casos espacio sesgo yo muchos técnicas pib interface clase decir utiliza medida caso desempeño',\n",
       " ' futur promedi funcional produccion how prim aument tradicional ellas identific obten podr larg may busc objet defin proces cualqui caracterist',\n",
       " ' hacen utilizan orden particular podría crear precisión implementar afectar equipos importante peso problema entender espacio sesgo desarrollar 4 yo necesario',\n",
       " ' ellas original usados precisión implementar importante peso problema utilizar buen necesario stacking utilizados funciones realiza permiten medida desempeño dado además',\n",
       " ' futur promedi funcional produccion orden prim predec aument grand podr larg busc objet defin proces supervis regresion ventaj numer determin',\n",
       " ' important index more have tradicional may lugar precisión implementar afectar falla importante problema lenguajes muestras utilizar 4 gestión tres beneficios']"
      ]
     },
     "execution_count": 652,
     "metadata": {},
     "output_type": "execute_result"
    }
   ],
   "source": [
    "Top_Words_by_Est"
   ]
  },
  {
   "cell_type": "markdown",
   "metadata": {},
   "source": [
    "## Conclusiones\n",
    "\n",
    "Al analizar el top-20 de las palabras de cada tarea, podemos evidenciar lo siguiente:\n",
    "* Hay mas estudiantes que escriben en español que en ingles.\n",
    "* Hay estudiantes (pocos) que escribieron algunas tareas en ingles y otras en español.\n",
    "* Una de las palabras mas usadas por los estudiantes es: futuro, muy problemente esta asociado al concepto de que machine learning es el futuro.\n",
    "* Otra palabra frecuentemente utilizada \"Prececir\", de lo que se podria intuir que la mayoria estan mas interesados en modelos de aprendizaje supervisado."
   ]
  },
  {
   "cell_type": "markdown",
   "metadata": {},
   "source": [
    "# Exercise 13.2\n",
    "\n",
    "Evaluate the similarities of the homeworks of the students.\n",
    "\n",
    "At a homework level, then as a student level.\n"
   ]
  },
  {
   "cell_type": "markdown",
   "metadata": {},
   "source": [
    "Definimos la funcion que va a calcular la similaridad coseno entre todos los textos de todos los alumnos:"
   ]
  },
  {
   "cell_type": "code",
   "execution_count": 653,
   "metadata": {},
   "outputs": [],
   "source": [
    "def cosine_distance_countVectorizer(s1, s2):\n",
    "    vect = TfidfVectorizer(stop_words=final_stopwords_list,ngram_range=(1, 2),analyzer=split_into_lemmas_both,max_features=500)\n",
    "    X_dtm = vect.fit_transform([s1, s2]).todense()\n",
    "    return 1-cosine(X_dtm[0], X_dtm[1])"
   ]
  },
  {
   "cell_type": "markdown",
   "metadata": {},
   "source": [
    "Creamos un dataframe con los calculos de similaridades de los textos de todos los alumnos comparados con todos:"
   ]
  },
  {
   "cell_type": "code",
   "execution_count": 654,
   "metadata": {},
   "outputs": [
    {
     "data": {
      "text/html": [
       "<div>\n",
       "<style scoped>\n",
       "    .dataframe tbody tr th:only-of-type {\n",
       "        vertical-align: middle;\n",
       "    }\n",
       "\n",
       "    .dataframe tbody tr th {\n",
       "        vertical-align: top;\n",
       "    }\n",
       "\n",
       "    .dataframe thead th {\n",
       "        text-align: right;\n",
       "    }\n",
       "</style>\n",
       "<table border=\"1\" class=\"dataframe\">\n",
       "  <thead>\n",
       "    <tr style=\"text-align: right;\">\n",
       "      <th></th>\n",
       "      <th>Alumno i</th>\n",
       "      <th>Alumno j</th>\n",
       "      <th>Similaridad</th>\n",
       "    </tr>\n",
       "  </thead>\n",
       "  <tbody>\n",
       "    <tr>\n",
       "      <th>1</th>\n",
       "      <td>4</td>\n",
       "      <td>38</td>\n",
       "      <td>0.741516</td>\n",
       "    </tr>\n",
       "    <tr>\n",
       "      <th>2</th>\n",
       "      <td>34</td>\n",
       "      <td>44</td>\n",
       "      <td>0.669419</td>\n",
       "    </tr>\n",
       "    <tr>\n",
       "      <th>3</th>\n",
       "      <td>27</td>\n",
       "      <td>38</td>\n",
       "      <td>0.669419</td>\n",
       "    </tr>\n",
       "    <tr>\n",
       "      <th>4</th>\n",
       "      <td>3</td>\n",
       "      <td>38</td>\n",
       "      <td>0.669419</td>\n",
       "    </tr>\n",
       "    <tr>\n",
       "      <th>5</th>\n",
       "      <td>16</td>\n",
       "      <td>34</td>\n",
       "      <td>0.602975</td>\n",
       "    </tr>\n",
       "    <tr>\n",
       "      <th>6</th>\n",
       "      <td>3</td>\n",
       "      <td>4</td>\n",
       "      <td>0.602975</td>\n",
       "    </tr>\n",
       "    <tr>\n",
       "      <th>7</th>\n",
       "      <td>0</td>\n",
       "      <td>38</td>\n",
       "      <td>0.602975</td>\n",
       "    </tr>\n",
       "    <tr>\n",
       "      <th>8</th>\n",
       "      <td>0</td>\n",
       "      <td>4</td>\n",
       "      <td>0.602975</td>\n",
       "    </tr>\n",
       "    <tr>\n",
       "      <th>9</th>\n",
       "      <td>16</td>\n",
       "      <td>39</td>\n",
       "      <td>0.541544</td>\n",
       "    </tr>\n",
       "    <tr>\n",
       "      <th>10</th>\n",
       "      <td>1</td>\n",
       "      <td>16</td>\n",
       "      <td>0.541544</td>\n",
       "    </tr>\n",
       "  </tbody>\n",
       "</table>\n",
       "</div>"
      ],
      "text/plain": [
       "    Alumno i  Alumno j  Similaridad\n",
       "1          4        38     0.741516\n",
       "2         34        44     0.669419\n",
       "3         27        38     0.669419\n",
       "4          3        38     0.669419\n",
       "5         16        34     0.602975\n",
       "6          3         4     0.602975\n",
       "7          0        38     0.602975\n",
       "8          0         4     0.602975\n",
       "9         16        39     0.541544\n",
       "10         1        16     0.541544"
      ]
     },
     "execution_count": 654,
     "metadata": {},
     "output_type": "execute_result"
    }
   ],
   "source": [
    "jacc = []\n",
    "indice_i = []\n",
    "indice_j = []\n",
    "for i in range(0,46):\n",
    "    for j in range(i,46):\n",
    "        if i!=j:\n",
    "            jacc.append(cosine_distance_countVectorizer(Top_Words_by_Est[i], Top_Words_by_Est[j]))\n",
    "            indice_i.append(i)\n",
    "            indice_j.append(j)\n",
    "\n",
    "Tabla_Similaridades_Est = pd.DataFrame({'Alumno i':indice_i, 'Alumno j':indice_j,\"Similaridad\":jacc}).sort_values('Similaridad',ascending=False)\n",
    "Tabla_Similaridades_Est.index = np.arange(1, len(Tabla_Similaridades_Est) + 1)\n",
    "Tabla_Similaridades_Est.head(10)"
   ]
  },
  {
   "cell_type": "markdown",
   "metadata": {},
   "source": [
    "Revisamos las palabras TOP-20 de dos alumnos con similaridades bajas, y se puede evideciar que usan parabras muy diferentes en sus tareas, probablemente tienen diferentes profesiones, trabajan en áreas muy diferentes o consultaron fuentes diferentes:"
   ]
  },
  {
   "cell_type": "code",
   "execution_count": 655,
   "metadata": {
    "tags": []
   },
   "outputs": [
    {
     "name": "stdout",
     "output_type": "stream",
     "text": [
      " us important hacen index more have algorithm prediction tradicional ellas one there from example they we system business ensemble capacidad\n",
      " futur promedi individu funcional produccion index ellas identific obten podr larg may busc objet defin proces supervis regresion ventaj numer\n"
     ]
    }
   ],
   "source": [
    "print(top_10(0))\n",
    "print(top_10(1))"
   ]
  },
  {
   "cell_type": "markdown",
   "metadata": {},
   "source": [
    "Revisamos las palabras TOP-20 de dos alumnos con similaridades altas, y podriamos observar que usan frecuentemente las mismas palabras (entre ellos), se podria concluir que consultaron fuentes muy similares para sus tareas:"
   ]
  },
  {
   "cell_type": "code",
   "execution_count": 656,
   "metadata": {},
   "outputs": [
    {
     "name": "stdout",
     "output_type": "stream",
     "text": [
      " us important how more have algorithm prediction may independent c45 one there from example they we system business ensemble much\n",
      " us important index more have algorithm prediction may independent one there from example they we business ensemble much bootstrap by\n"
     ]
    }
   ],
   "source": [
    "print(top_10(4))\n",
    "print(top_10(38))"
   ]
  },
  {
   "cell_type": "markdown",
   "metadata": {},
   "source": [
    "Unimos las los textos de todos los estudiantes por cada tarea:"
   ]
  },
  {
   "cell_type": "code",
   "execution_count": 657,
   "metadata": {
    "tags": []
   },
   "outputs": [
    {
     "data": {
      "text/html": [
       "<div>\n",
       "<style scoped>\n",
       "    .dataframe tbody tr th:only-of-type {\n",
       "        vertical-align: middle;\n",
       "    }\n",
       "\n",
       "    .dataframe tbody tr th {\n",
       "        vertical-align: top;\n",
       "    }\n",
       "\n",
       "    .dataframe thead th {\n",
       "        text-align: right;\n",
       "    }\n",
       "</style>\n",
       "<table border=\"1\" class=\"dataframe\">\n",
       "  <thead>\n",
       "    <tr style=\"text-align: right;\">\n",
       "      <th></th>\n",
       "      <th>Estudiantes</th>\n",
       "    </tr>\n",
       "  </thead>\n",
       "  <tbody>\n",
       "    <tr>\n",
       "      <th>0</th>\n",
       "      <td>One of the most valuable application of time s...</td>\n",
       "    </tr>\n",
       "    <tr>\n",
       "      <th>1</th>\n",
       "      <td>The main difference between panel data and tim...</td>\n",
       "    </tr>\n",
       "    <tr>\n",
       "      <th>2</th>\n",
       "      <td>Decision tree are a model used by the analytic...</td>\n",
       "    </tr>\n",
       "    <tr>\n",
       "      <th>3</th>\n",
       "      <td>They are used to make a better prediction than...</td>\n",
       "    </tr>\n",
       "    <tr>\n",
       "      <th>4</th>\n",
       "      <td>Es una forma de arquitectura de datos. Los mic...</td>\n",
       "    </tr>\n",
       "    <tr>\n",
       "      <th>5</th>\n",
       "      <td>LexisNexis launched Lexis Analytics, a legal r...</td>\n",
       "    </tr>\n",
       "  </tbody>\n",
       "</table>\n",
       "</div>"
      ],
      "text/plain": [
       "                                         Estudiantes\n",
       "0  One of the most valuable application of time s...\n",
       "1  The main difference between panel data and tim...\n",
       "2  Decision tree are a model used by the analytic...\n",
       "3  They are used to make a better prediction than...\n",
       "4  Es una forma de arquitectura de datos. Los mic...\n",
       "5  LexisNexis launched Lexis Analytics, a legal r..."
      ]
     },
     "execution_count": 657,
     "metadata": {},
     "output_type": "execute_result"
    }
   ],
   "source": [
    "tareas = []\n",
    "E=\"\"\n",
    "for tarea in range(1,7):\n",
    "    E=\"\"\n",
    "    for est in range(0,46):\n",
    "        if pd.isnull(data.loc[est][tarea]):\n",
    "            x=1\n",
    "        else:\n",
    "            E = E + data.loc[est][tarea]\n",
    "    tareas.append(E)\n",
    "\n",
    "tareas=pd.DataFrame(tareas).head(10)\n",
    "tareas.columns=[\"Estudiantes\"]\n",
    "tareas"
   ]
  },
  {
   "cell_type": "code",
   "execution_count": 658,
   "metadata": {},
   "outputs": [],
   "source": [
    "X=tareas.Estudiantes"
   ]
  },
  {
   "cell_type": "markdown",
   "metadata": {},
   "source": [
    "Aplicamos la funcion vectorizadora, usando:\n",
    "* Stop words en español y en ingles.\n",
    "* n-gramas entre 1 y 2 palabras.\n",
    "* extractor de raices en ingles y español, segun corresponda.\n",
    "* Solo se escogeran maximo 500 parabras (las de mayor frecuencia)"
   ]
  },
  {
   "cell_type": "code",
   "execution_count": 659,
   "metadata": {},
   "outputs": [
    {
     "data": {
      "text/plain": [
       "(6, 500)"
      ]
     },
     "execution_count": 659,
     "metadata": {},
     "output_type": "execute_result"
    }
   ],
   "source": [
    "vect = TfidfVectorizer(stop_words=final_stopwords_list,ngram_range=(1, 2),analyzer=split_into_lemmas_both,binary=True,max_features=500)\n",
    "X_dtm = vect.fit_transform(X)\n",
    "X_dtm.shape"
   ]
  },
  {
   "cell_type": "code",
   "execution_count": 660,
   "metadata": {},
   "outputs": [
    {
     "data": {
      "text/html": [
       "<div>\n",
       "<style scoped>\n",
       "    .dataframe tbody tr th:only-of-type {\n",
       "        vertical-align: middle;\n",
       "    }\n",
       "\n",
       "    .dataframe tbody tr th {\n",
       "        vertical-align: top;\n",
       "    }\n",
       "\n",
       "    .dataframe thead th {\n",
       "        text-align: right;\n",
       "    }\n",
       "</style>\n",
       "<table border=\"1\" class=\"dataframe\">\n",
       "  <thead>\n",
       "    <tr style=\"text-align: right;\">\n",
       "      <th></th>\n",
       "      <th>&amp;</th>\n",
       "      <th>-</th>\n",
       "      <th>.</th>\n",
       "      <th>1)</th>\n",
       "      <th>1.</th>\n",
       "      <th>2)</th>\n",
       "      <th>2.</th>\n",
       "      <th>3)</th>\n",
       "      <th>3.</th>\n",
       "      <th>a</th>\n",
       "      <th>...</th>\n",
       "      <th>where</th>\n",
       "      <th>which</th>\n",
       "      <th>with</th>\n",
       "      <th>without</th>\n",
       "      <th>y</th>\n",
       "      <th>y,</th>\n",
       "      <th>ya</th>\n",
       "      <th>–</th>\n",
       "      <th>•</th>\n",
       "      <th></th>\n",
       "    </tr>\n",
       "  </thead>\n",
       "  <tbody>\n",
       "    <tr>\n",
       "      <th>0</th>\n",
       "      <td>0.039146</td>\n",
       "      <td>0.045181</td>\n",
       "      <td>0.045181</td>\n",
       "      <td>0.045181</td>\n",
       "      <td>0.039146</td>\n",
       "      <td>0.045181</td>\n",
       "      <td>0.039146</td>\n",
       "      <td>0.045181</td>\n",
       "      <td>0.039146</td>\n",
       "      <td>0.039146</td>\n",
       "      <td>...</td>\n",
       "      <td>0.045181</td>\n",
       "      <td>0.039146</td>\n",
       "      <td>0.039146</td>\n",
       "      <td>0.000000</td>\n",
       "      <td>0.039146</td>\n",
       "      <td>0.045181</td>\n",
       "      <td>0.039146</td>\n",
       "      <td>0.045181</td>\n",
       "      <td>0.039146</td>\n",
       "      <td>0.052318</td>\n",
       "    </tr>\n",
       "    <tr>\n",
       "      <th>1</th>\n",
       "      <td>0.042727</td>\n",
       "      <td>0.049314</td>\n",
       "      <td>0.049314</td>\n",
       "      <td>0.049314</td>\n",
       "      <td>0.042727</td>\n",
       "      <td>0.049314</td>\n",
       "      <td>0.042727</td>\n",
       "      <td>0.049314</td>\n",
       "      <td>0.042727</td>\n",
       "      <td>0.042727</td>\n",
       "      <td>...</td>\n",
       "      <td>0.049314</td>\n",
       "      <td>0.042727</td>\n",
       "      <td>0.042727</td>\n",
       "      <td>0.049314</td>\n",
       "      <td>0.042727</td>\n",
       "      <td>0.049314</td>\n",
       "      <td>0.042727</td>\n",
       "      <td>0.049314</td>\n",
       "      <td>0.042727</td>\n",
       "      <td>0.000000</td>\n",
       "    </tr>\n",
       "    <tr>\n",
       "      <th>2</th>\n",
       "      <td>0.039266</td>\n",
       "      <td>0.045318</td>\n",
       "      <td>0.045318</td>\n",
       "      <td>0.045318</td>\n",
       "      <td>0.039266</td>\n",
       "      <td>0.045318</td>\n",
       "      <td>0.039266</td>\n",
       "      <td>0.045318</td>\n",
       "      <td>0.039266</td>\n",
       "      <td>0.039266</td>\n",
       "      <td>...</td>\n",
       "      <td>0.045318</td>\n",
       "      <td>0.039266</td>\n",
       "      <td>0.039266</td>\n",
       "      <td>0.045318</td>\n",
       "      <td>0.039266</td>\n",
       "      <td>0.045318</td>\n",
       "      <td>0.039266</td>\n",
       "      <td>0.045318</td>\n",
       "      <td>0.039266</td>\n",
       "      <td>0.052477</td>\n",
       "    </tr>\n",
       "    <tr>\n",
       "      <th>3</th>\n",
       "      <td>0.038802</td>\n",
       "      <td>0.044783</td>\n",
       "      <td>0.044783</td>\n",
       "      <td>0.044783</td>\n",
       "      <td>0.038802</td>\n",
       "      <td>0.044783</td>\n",
       "      <td>0.038802</td>\n",
       "      <td>0.044783</td>\n",
       "      <td>0.038802</td>\n",
       "      <td>0.038802</td>\n",
       "      <td>...</td>\n",
       "      <td>0.044783</td>\n",
       "      <td>0.038802</td>\n",
       "      <td>0.038802</td>\n",
       "      <td>0.044783</td>\n",
       "      <td>0.038802</td>\n",
       "      <td>0.044783</td>\n",
       "      <td>0.038802</td>\n",
       "      <td>0.044783</td>\n",
       "      <td>0.038802</td>\n",
       "      <td>0.051858</td>\n",
       "    </tr>\n",
       "    <tr>\n",
       "      <th>4</th>\n",
       "      <td>0.039293</td>\n",
       "      <td>0.045350</td>\n",
       "      <td>0.045350</td>\n",
       "      <td>0.045350</td>\n",
       "      <td>0.039293</td>\n",
       "      <td>0.045350</td>\n",
       "      <td>0.039293</td>\n",
       "      <td>0.045350</td>\n",
       "      <td>0.039293</td>\n",
       "      <td>0.039293</td>\n",
       "      <td>...</td>\n",
       "      <td>0.045350</td>\n",
       "      <td>0.039293</td>\n",
       "      <td>0.039293</td>\n",
       "      <td>0.045350</td>\n",
       "      <td>0.039293</td>\n",
       "      <td>0.045350</td>\n",
       "      <td>0.039293</td>\n",
       "      <td>0.045350</td>\n",
       "      <td>0.039293</td>\n",
       "      <td>0.052514</td>\n",
       "    </tr>\n",
       "    <tr>\n",
       "      <th>5</th>\n",
       "      <td>0.073232</td>\n",
       "      <td>0.000000</td>\n",
       "      <td>0.000000</td>\n",
       "      <td>0.000000</td>\n",
       "      <td>0.073232</td>\n",
       "      <td>0.000000</td>\n",
       "      <td>0.073232</td>\n",
       "      <td>0.000000</td>\n",
       "      <td>0.073232</td>\n",
       "      <td>0.073232</td>\n",
       "      <td>...</td>\n",
       "      <td>0.000000</td>\n",
       "      <td>0.073232</td>\n",
       "      <td>0.073232</td>\n",
       "      <td>0.084521</td>\n",
       "      <td>0.073232</td>\n",
       "      <td>0.000000</td>\n",
       "      <td>0.073232</td>\n",
       "      <td>0.000000</td>\n",
       "      <td>0.073232</td>\n",
       "      <td>0.000000</td>\n",
       "    </tr>\n",
       "  </tbody>\n",
       "</table>\n",
       "<p>6 rows × 500 columns</p>\n",
       "</div>"
      ],
      "text/plain": [
       "          &         -         .        1)        1.        2)        2.  \\\n",
       "0  0.039146  0.045181  0.045181  0.045181  0.039146  0.045181  0.039146   \n",
       "1  0.042727  0.049314  0.049314  0.049314  0.042727  0.049314  0.042727   \n",
       "2  0.039266  0.045318  0.045318  0.045318  0.039266  0.045318  0.039266   \n",
       "3  0.038802  0.044783  0.044783  0.044783  0.038802  0.044783  0.038802   \n",
       "4  0.039293  0.045350  0.045350  0.045350  0.039293  0.045350  0.039293   \n",
       "5  0.073232  0.000000  0.000000  0.000000  0.073232  0.000000  0.073232   \n",
       "\n",
       "         3)        3.         a  ...     where     which      with   without  \\\n",
       "0  0.045181  0.039146  0.039146  ...  0.045181  0.039146  0.039146  0.000000   \n",
       "1  0.049314  0.042727  0.042727  ...  0.049314  0.042727  0.042727  0.049314   \n",
       "2  0.045318  0.039266  0.039266  ...  0.045318  0.039266  0.039266  0.045318   \n",
       "3  0.044783  0.038802  0.038802  ...  0.044783  0.038802  0.038802  0.044783   \n",
       "4  0.045350  0.039293  0.039293  ...  0.045350  0.039293  0.039293  0.045350   \n",
       "5  0.000000  0.073232  0.073232  ...  0.000000  0.073232  0.073232  0.084521   \n",
       "\n",
       "          y        y,        ya         –         •           \n",
       "0  0.039146  0.045181  0.039146  0.045181  0.039146  0.052318  \n",
       "1  0.042727  0.049314  0.042727  0.049314  0.042727  0.000000  \n",
       "2  0.039266  0.045318  0.039266  0.045318  0.039266  0.052477  \n",
       "3  0.038802  0.044783  0.038802  0.044783  0.038802  0.051858  \n",
       "4  0.039293  0.045350  0.039293  0.045350  0.039293  0.052514  \n",
       "5  0.073232  0.000000  0.073232  0.000000  0.073232  0.000000  \n",
       "\n",
       "[6 rows x 500 columns]"
      ]
     },
     "execution_count": 660,
     "metadata": {},
     "output_type": "execute_result"
    }
   ],
   "source": [
    "Tabla_Frecuencias=pd.DataFrame(X_dtm.toarray(), columns=vect.get_feature_names())\n",
    "Tabla_Frecuencias"
   ]
  },
  {
   "cell_type": "markdown",
   "metadata": {},
   "source": [
    "Crearemos un dataframe con el top-20 de palabras por tarea:"
   ]
  },
  {
   "cell_type": "code",
   "execution_count": 661,
   "metadata": {},
   "outputs": [],
   "source": [
    "Top_Words_by_Tar = []\n",
    "\n",
    "for est in range(0,6):\n",
    "    Top_Words_by_Tar.append(top_10(est))"
   ]
  },
  {
   "cell_type": "code",
   "execution_count": 662,
   "metadata": {
    "scrolled": true
   },
   "outputs": [
    {
     "data": {
      "text/plain": [
       "[' time analysis, due amount could part model tiempo distribución crecimiento teniendo quiere fenómeno presenta identificar presentar encontrar bajo parámetros bastante',\n",
       " ' time analysis, due amount could part tiempo crecimiento quiere fenómeno presenta identificar presentar encontrar parámetros partir estimación consumo take point',\n",
       " ' analysis, due amount model distribución crecimiento teniendo quiere fenómeno identificar presentar encontrar bajo bastante partir estimación tendencia consumo control even',\n",
       " ' time amount could model tiempo distribución teniendo fenómeno presenta identificar presentar encontrar bajo parámetros bastante partir estimación tendencia even every',\n",
       " ' time due could part tiempo distribución crecimiento teniendo quiere presenta bajo parámetros bastante tendencia consumo control every their take related',\n",
       " ' analysis, part model control even every result identify been tradicional develop them. algorithm present adicionalmente, crucial focus par unos error']"
      ]
     },
     "execution_count": 662,
     "metadata": {},
     "output_type": "execute_result"
    }
   ],
   "source": [
    "Top_Words_by_Tar"
   ]
  },
  {
   "cell_type": "markdown",
   "metadata": {},
   "source": [
    "Evaluaremos la similaridad de las tareas calculando la distancia coseno entre el top-20 de las parabras de cada tarea:"
   ]
  },
  {
   "cell_type": "code",
   "execution_count": 663,
   "metadata": {},
   "outputs": [
    {
     "data": {
      "text/html": [
       "<div>\n",
       "<style scoped>\n",
       "    .dataframe tbody tr th:only-of-type {\n",
       "        vertical-align: middle;\n",
       "    }\n",
       "\n",
       "    .dataframe tbody tr th {\n",
       "        vertical-align: top;\n",
       "    }\n",
       "\n",
       "    .dataframe thead th {\n",
       "        text-align: right;\n",
       "    }\n",
       "</style>\n",
       "<table border=\"1\" class=\"dataframe\">\n",
       "  <thead>\n",
       "    <tr style=\"text-align: right;\">\n",
       "      <th></th>\n",
       "      <th>Tarea i</th>\n",
       "      <th>Tarea j</th>\n",
       "      <th>Similaridad</th>\n",
       "    </tr>\n",
       "  </thead>\n",
       "  <tbody>\n",
       "    <tr>\n",
       "      <th>1</th>\n",
       "      <td>0</td>\n",
       "      <td>1</td>\n",
       "      <td>0.602975</td>\n",
       "    </tr>\n",
       "    <tr>\n",
       "      <th>2</th>\n",
       "      <td>0</td>\n",
       "      <td>3</td>\n",
       "      <td>0.602975</td>\n",
       "    </tr>\n",
       "    <tr>\n",
       "      <th>3</th>\n",
       "      <td>0</td>\n",
       "      <td>4</td>\n",
       "      <td>0.484581</td>\n",
       "    </tr>\n",
       "    <tr>\n",
       "      <th>4</th>\n",
       "      <td>1</td>\n",
       "      <td>3</td>\n",
       "      <td>0.431613</td>\n",
       "    </tr>\n",
       "    <tr>\n",
       "      <th>5</th>\n",
       "      <td>1</td>\n",
       "      <td>4</td>\n",
       "      <td>0.382237</td>\n",
       "    </tr>\n",
       "    <tr>\n",
       "      <th>6</th>\n",
       "      <td>3</td>\n",
       "      <td>4</td>\n",
       "      <td>0.382237</td>\n",
       "    </tr>\n",
       "    <tr>\n",
       "      <th>7</th>\n",
       "      <td>2</td>\n",
       "      <td>5</td>\n",
       "      <td>0.178281</td>\n",
       "    </tr>\n",
       "    <tr>\n",
       "      <th>8</th>\n",
       "      <td>0</td>\n",
       "      <td>2</td>\n",
       "      <td>0.144384</td>\n",
       "    </tr>\n",
       "    <tr>\n",
       "      <th>9</th>\n",
       "      <td>1</td>\n",
       "      <td>2</td>\n",
       "      <td>0.112343</td>\n",
       "    </tr>\n",
       "    <tr>\n",
       "      <th>10</th>\n",
       "      <td>0</td>\n",
       "      <td>5</td>\n",
       "      <td>0.082011</td>\n",
       "    </tr>\n",
       "    <tr>\n",
       "      <th>11</th>\n",
       "      <td>2</td>\n",
       "      <td>3</td>\n",
       "      <td>0.082011</td>\n",
       "    </tr>\n",
       "    <tr>\n",
       "      <th>12</th>\n",
       "      <td>2</td>\n",
       "      <td>4</td>\n",
       "      <td>0.082011</td>\n",
       "    </tr>\n",
       "    <tr>\n",
       "      <th>13</th>\n",
       "      <td>3</td>\n",
       "      <td>5</td>\n",
       "      <td>0.082011</td>\n",
       "    </tr>\n",
       "    <tr>\n",
       "      <th>14</th>\n",
       "      <td>4</td>\n",
       "      <td>5</td>\n",
       "      <td>0.082011</td>\n",
       "    </tr>\n",
       "    <tr>\n",
       "      <th>15</th>\n",
       "      <td>1</td>\n",
       "      <td>5</td>\n",
       "      <td>0.053254</td>\n",
       "    </tr>\n",
       "  </tbody>\n",
       "</table>\n",
       "</div>"
      ],
      "text/plain": [
       "    Tarea i  Tarea j  Similaridad\n",
       "1         0        1     0.602975\n",
       "2         0        3     0.602975\n",
       "3         0        4     0.484581\n",
       "4         1        3     0.431613\n",
       "5         1        4     0.382237\n",
       "6         3        4     0.382237\n",
       "7         2        5     0.178281\n",
       "8         0        2     0.144384\n",
       "9         1        2     0.112343\n",
       "10        0        5     0.082011\n",
       "11        2        3     0.082011\n",
       "12        2        4     0.082011\n",
       "13        3        5     0.082011\n",
       "14        4        5     0.082011\n",
       "15        1        5     0.053254"
      ]
     },
     "execution_count": 663,
     "metadata": {},
     "output_type": "execute_result"
    }
   ],
   "source": [
    "jacc = []\n",
    "indice_i = []\n",
    "indice_j = []\n",
    "for i in range(0,6):\n",
    "    for j in range(i,6):\n",
    "        if i!=j:\n",
    "            jacc.append(cosine_distance_countVectorizer(Top_Words_by_Tar[i], Top_Words_by_Tar[j]))\n",
    "            indice_i.append(i)\n",
    "            indice_j.append(j)\n",
    "\n",
    "Tabla_Similaridades_Tar = pd.DataFrame({'Tarea i':indice_i, 'Tarea j':indice_j,\"Similaridad\":jacc}).sort_values('Similaridad',ascending=False)\n",
    "Tabla_Similaridades_Tar.index = np.arange(1, len(Tabla_Similaridades_Tar) + 1)\n",
    "Tabla_Similaridades_Tar"
   ]
  },
  {
   "cell_type": "markdown",
   "metadata": {},
   "source": [
    "Evaluaremos el top-20 de las palabras de las tareas que tienen baja similaridad y las que tienen alta simildaridad:"
   ]
  },
  {
   "cell_type": "code",
   "execution_count": 664,
   "metadata": {},
   "outputs": [
    {
     "name": "stdout",
     "output_type": "stream",
     "text": [
      " time analysis, due amount could part model tiempo distribución crecimiento teniendo quiere fenómeno presenta identificar presentar encontrar bajo parámetros bastante\n",
      " time analysis, due amount could part tiempo crecimiento quiere fenómeno presenta identificar presentar encontrar parámetros partir estimación consumo take point\n"
     ]
    }
   ],
   "source": [
    "print(Top_Words_by_Tar[0])\n",
    "print(Top_Words_by_Tar[1])"
   ]
  },
  {
   "cell_type": "code",
   "execution_count": 665,
   "metadata": {},
   "outputs": [
    {
     "name": "stdout",
     "output_type": "stream",
     "text": [
      " time analysis, due amount could part tiempo crecimiento quiere fenómeno presenta identificar presentar encontrar parámetros partir estimación consumo take point\n",
      " analysis, part model control even every result identify been tradicional develop them. algorithm present adicionalmente, crucial focus par unos error\n"
     ]
    }
   ],
   "source": [
    "print(Top_Words_by_Tar[1])\n",
    "print(Top_Words_by_Tar[5])"
   ]
  },
  {
   "cell_type": "markdown",
   "metadata": {},
   "source": [
    "## Conclusiones\n",
    "\n",
    "Al analizar el top-20 de las palabras de cada tarea, podemos evidenciar lo siguiente:\n",
    "* Las tareas mas similares son las tareas 1 y 2, tiene sentido, ya que eran tareas sobre el mismo tema: Series de Tiempo.\n",
    "* Las tareas menos similares son las tareas 2 y 6, que corresponden a temas demasiado dispares."
   ]
  },
  {
   "cell_type": "markdown",
   "metadata": {},
   "source": [
    "# Exercise 13.3\n",
    "\n",
    "Create a classifier to predict the gender of each student\n",
    "\n"
   ]
  },
  {
   "cell_type": "code",
   "execution_count": 666,
   "metadata": {},
   "outputs": [],
   "source": [
    "y = data.Genero\n",
    "X = estudiantes.Tareas"
   ]
  },
  {
   "cell_type": "code",
   "execution_count": 667,
   "metadata": {
    "scrolled": true
   },
   "outputs": [
    {
     "name": "stdout",
     "output_type": "stream",
     "text": [
      "count    10.000000\n",
      "mean      0.780000\n",
      "std       0.097753\n",
      "min       0.600000\n",
      "25%       0.750000\n",
      "50%       0.775000\n",
      "75%       0.800000\n",
      "max       1.000000\n",
      "dtype: float64\n"
     ]
    },
    {
     "name": "stderr",
     "output_type": "stream",
     "text": [
      "C:\\Users\\Lenovo\\Anaconda3\\lib\\site-packages\\sklearn\\ensemble\\forest.py:245: FutureWarning: The default value of n_estimators will change from 10 in version 0.20 to 100 in 0.22.\n",
      "  \"10 in version 0.20 to 100 in 0.22.\", FutureWarning)\n",
      "C:\\Users\\Lenovo\\Anaconda3\\lib\\site-packages\\sklearn\\ensemble\\forest.py:245: FutureWarning: The default value of n_estimators will change from 10 in version 0.20 to 100 in 0.22.\n",
      "  \"10 in version 0.20 to 100 in 0.22.\", FutureWarning)\n",
      "C:\\Users\\Lenovo\\Anaconda3\\lib\\site-packages\\sklearn\\ensemble\\forest.py:245: FutureWarning: The default value of n_estimators will change from 10 in version 0.20 to 100 in 0.22.\n",
      "  \"10 in version 0.20 to 100 in 0.22.\", FutureWarning)\n",
      "C:\\Users\\Lenovo\\Anaconda3\\lib\\site-packages\\sklearn\\ensemble\\forest.py:245: FutureWarning: The default value of n_estimators will change from 10 in version 0.20 to 100 in 0.22.\n",
      "  \"10 in version 0.20 to 100 in 0.22.\", FutureWarning)\n",
      "C:\\Users\\Lenovo\\Anaconda3\\lib\\site-packages\\sklearn\\ensemble\\forest.py:245: FutureWarning: The default value of n_estimators will change from 10 in version 0.20 to 100 in 0.22.\n",
      "  \"10 in version 0.20 to 100 in 0.22.\", FutureWarning)\n",
      "C:\\Users\\Lenovo\\Anaconda3\\lib\\site-packages\\sklearn\\ensemble\\forest.py:245: FutureWarning: The default value of n_estimators will change from 10 in version 0.20 to 100 in 0.22.\n",
      "  \"10 in version 0.20 to 100 in 0.22.\", FutureWarning)\n",
      "C:\\Users\\Lenovo\\Anaconda3\\lib\\site-packages\\sklearn\\ensemble\\forest.py:245: FutureWarning: The default value of n_estimators will change from 10 in version 0.20 to 100 in 0.22.\n",
      "  \"10 in version 0.20 to 100 in 0.22.\", FutureWarning)\n",
      "C:\\Users\\Lenovo\\Anaconda3\\lib\\site-packages\\sklearn\\ensemble\\forest.py:245: FutureWarning: The default value of n_estimators will change from 10 in version 0.20 to 100 in 0.22.\n",
      "  \"10 in version 0.20 to 100 in 0.22.\", FutureWarning)\n",
      "C:\\Users\\Lenovo\\Anaconda3\\lib\\site-packages\\sklearn\\ensemble\\forest.py:245: FutureWarning: The default value of n_estimators will change from 10 in version 0.20 to 100 in 0.22.\n",
      "  \"10 in version 0.20 to 100 in 0.22.\", FutureWarning)\n",
      "C:\\Users\\Lenovo\\Anaconda3\\lib\\site-packages\\sklearn\\ensemble\\forest.py:245: FutureWarning: The default value of n_estimators will change from 10 in version 0.20 to 100 in 0.22.\n",
      "  \"10 in version 0.20 to 100 in 0.22.\", FutureWarning)\n"
     ]
    }
   ],
   "source": [
    "# use Random Forest Classifier to predict the star rating\n",
    "vect = TfidfVectorizer(stop_words=final_stopwords_list,ngram_range=(1, 3),analyzer=split_into_lemmas_both,max_features=10000)\n",
    "dtm = vect.fit_transform(X)\n",
    "rfc = RandomForestClassifier()\n",
    "print(pd.Series(cross_val_score(rfc, dtm, y, cv=10)).describe());"
   ]
  },
  {
   "cell_type": "markdown",
   "metadata": {},
   "source": [
    "## Conclusiones\n",
    "\n",
    "* La utilizacion de n-gramas y el uso de stopwords al generar el modelo, mejora notablemente su capacidad predictiva."
   ]
  },
  {
   "cell_type": "markdown",
   "metadata": {},
   "source": [
    "# Exercise 13.4\n",
    "\n",
    "Classify group members into differente subgroups (minimum 3) according to a characteristic of your choice."
   ]
  },
  {
   "cell_type": "code",
   "execution_count": 668,
   "metadata": {},
   "outputs": [
    {
     "data": {
      "text/html": [
       "<div>\n",
       "<style scoped>\n",
       "    .dataframe tbody tr th:only-of-type {\n",
       "        vertical-align: middle;\n",
       "    }\n",
       "\n",
       "    .dataframe tbody tr th {\n",
       "        vertical-align: top;\n",
       "    }\n",
       "\n",
       "    .dataframe thead th {\n",
       "        text-align: right;\n",
       "    }\n",
       "</style>\n",
       "<table border=\"1\" class=\"dataframe\">\n",
       "  <thead>\n",
       "    <tr style=\"text-align: right;\">\n",
       "      <th></th>\n",
       "      <th>1</th>\n",
       "      <th>2</th>\n",
       "      <th>3</th>\n",
       "      <th>4</th>\n",
       "      <th>a</th>\n",
       "      <th>además</th>\n",
       "      <th>adicional</th>\n",
       "      <th>afectar</th>\n",
       "      <th>al</th>\n",
       "      <th>algorithm</th>\n",
       "      <th>...</th>\n",
       "      <th>when</th>\n",
       "      <th>which</th>\n",
       "      <th>with</th>\n",
       "      <th>y</th>\n",
       "      <th>ya</th>\n",
       "      <th>yo</th>\n",
       "      <th>árbol</th>\n",
       "      <th>árboles</th>\n",
       "      <th>único</th>\n",
       "      <th>•</th>\n",
       "    </tr>\n",
       "  </thead>\n",
       "  <tbody>\n",
       "    <tr>\n",
       "      <th>0</th>\n",
       "      <td>0.000000</td>\n",
       "      <td>0.000000</td>\n",
       "      <td>0.000000</td>\n",
       "      <td>0.0</td>\n",
       "      <td>0.043064</td>\n",
       "      <td>0.0</td>\n",
       "      <td>0.000000</td>\n",
       "      <td>0.000000</td>\n",
       "      <td>0.051099</td>\n",
       "      <td>0.105604</td>\n",
       "      <td>...</td>\n",
       "      <td>0.095219</td>\n",
       "      <td>0.098410</td>\n",
       "      <td>0.089469</td>\n",
       "      <td>0.047908</td>\n",
       "      <td>0.062398</td>\n",
       "      <td>0.0</td>\n",
       "      <td>0.0</td>\n",
       "      <td>0.0</td>\n",
       "      <td>0.0</td>\n",
       "      <td>0.000000</td>\n",
       "    </tr>\n",
       "    <tr>\n",
       "      <th>1</th>\n",
       "      <td>0.053617</td>\n",
       "      <td>0.051180</td>\n",
       "      <td>0.054901</td>\n",
       "      <td>0.0</td>\n",
       "      <td>0.035322</td>\n",
       "      <td>0.0</td>\n",
       "      <td>0.086618</td>\n",
       "      <td>0.000000</td>\n",
       "      <td>0.041912</td>\n",
       "      <td>0.000000</td>\n",
       "      <td>...</td>\n",
       "      <td>0.000000</td>\n",
       "      <td>0.000000</td>\n",
       "      <td>0.000000</td>\n",
       "      <td>0.039295</td>\n",
       "      <td>0.000000</td>\n",
       "      <td>0.0</td>\n",
       "      <td>0.0</td>\n",
       "      <td>0.0</td>\n",
       "      <td>0.0</td>\n",
       "      <td>0.000000</td>\n",
       "    </tr>\n",
       "    <tr>\n",
       "      <th>2</th>\n",
       "      <td>0.054602</td>\n",
       "      <td>0.052121</td>\n",
       "      <td>0.055911</td>\n",
       "      <td>0.0</td>\n",
       "      <td>0.035971</td>\n",
       "      <td>0.0</td>\n",
       "      <td>0.000000</td>\n",
       "      <td>0.088211</td>\n",
       "      <td>0.000000</td>\n",
       "      <td>0.088211</td>\n",
       "      <td>...</td>\n",
       "      <td>0.079536</td>\n",
       "      <td>0.082202</td>\n",
       "      <td>0.074733</td>\n",
       "      <td>0.040017</td>\n",
       "      <td>0.000000</td>\n",
       "      <td>0.0</td>\n",
       "      <td>0.0</td>\n",
       "      <td>0.0</td>\n",
       "      <td>0.0</td>\n",
       "      <td>0.082202</td>\n",
       "    </tr>\n",
       "    <tr>\n",
       "      <th>3</th>\n",
       "      <td>0.000000</td>\n",
       "      <td>0.000000</td>\n",
       "      <td>0.000000</td>\n",
       "      <td>0.0</td>\n",
       "      <td>0.051813</td>\n",
       "      <td>0.0</td>\n",
       "      <td>0.000000</td>\n",
       "      <td>0.000000</td>\n",
       "      <td>0.000000</td>\n",
       "      <td>0.127058</td>\n",
       "      <td>...</td>\n",
       "      <td>0.114563</td>\n",
       "      <td>0.118403</td>\n",
       "      <td>0.107644</td>\n",
       "      <td>0.000000</td>\n",
       "      <td>0.000000</td>\n",
       "      <td>0.0</td>\n",
       "      <td>0.0</td>\n",
       "      <td>0.0</td>\n",
       "      <td>0.0</td>\n",
       "      <td>0.118403</td>\n",
       "    </tr>\n",
       "    <tr>\n",
       "      <th>4</th>\n",
       "      <td>0.000000</td>\n",
       "      <td>0.070049</td>\n",
       "      <td>0.000000</td>\n",
       "      <td>0.0</td>\n",
       "      <td>0.048345</td>\n",
       "      <td>0.0</td>\n",
       "      <td>0.000000</td>\n",
       "      <td>0.000000</td>\n",
       "      <td>0.057365</td>\n",
       "      <td>0.118553</td>\n",
       "      <td>...</td>\n",
       "      <td>0.106894</td>\n",
       "      <td>0.110477</td>\n",
       "      <td>0.100439</td>\n",
       "      <td>0.000000</td>\n",
       "      <td>0.000000</td>\n",
       "      <td>0.0</td>\n",
       "      <td>0.0</td>\n",
       "      <td>0.0</td>\n",
       "      <td>0.0</td>\n",
       "      <td>0.000000</td>\n",
       "    </tr>\n",
       "  </tbody>\n",
       "</table>\n",
       "<p>5 rows × 500 columns</p>\n",
       "</div>"
      ],
      "text/plain": [
       "          1         2         3    4         a  además  adicional   afectar  \\\n",
       "0  0.000000  0.000000  0.000000  0.0  0.043064     0.0   0.000000  0.000000   \n",
       "1  0.053617  0.051180  0.054901  0.0  0.035322     0.0   0.086618  0.000000   \n",
       "2  0.054602  0.052121  0.055911  0.0  0.035971     0.0   0.000000  0.088211   \n",
       "3  0.000000  0.000000  0.000000  0.0  0.051813     0.0   0.000000  0.000000   \n",
       "4  0.000000  0.070049  0.000000  0.0  0.048345     0.0   0.000000  0.000000   \n",
       "\n",
       "         al  algorithm  ...      when     which      with         y        ya  \\\n",
       "0  0.051099   0.105604  ...  0.095219  0.098410  0.089469  0.047908  0.062398   \n",
       "1  0.041912   0.000000  ...  0.000000  0.000000  0.000000  0.039295  0.000000   \n",
       "2  0.000000   0.088211  ...  0.079536  0.082202  0.074733  0.040017  0.000000   \n",
       "3  0.000000   0.127058  ...  0.114563  0.118403  0.107644  0.000000  0.000000   \n",
       "4  0.057365   0.118553  ...  0.106894  0.110477  0.100439  0.000000  0.000000   \n",
       "\n",
       "    yo  árbol  árboles  único         •  \n",
       "0  0.0    0.0      0.0    0.0  0.000000  \n",
       "1  0.0    0.0      0.0    0.0  0.000000  \n",
       "2  0.0    0.0      0.0    0.0  0.082202  \n",
       "3  0.0    0.0      0.0    0.0  0.118403  \n",
       "4  0.0    0.0      0.0    0.0  0.000000  \n",
       "\n",
       "[5 rows x 500 columns]"
      ]
     },
     "execution_count": 668,
     "metadata": {},
     "output_type": "execute_result"
    }
   ],
   "source": [
    "Tabla_Frecuencias_Est.head()"
   ]
  },
  {
   "cell_type": "markdown",
   "metadata": {},
   "source": [
    "Realizaremos un clustering jerarquico usando la tabla de frecuencias de las 500 palabras mas frecuentes usadas en las tareas de cada alumno y visualizaremos a través de un dendograma los tres grupos que se generan a una profunidad dada (linea punteada):"
   ]
  },
  {
   "cell_type": "code",
   "execution_count": 677,
   "metadata": {},
   "outputs": [
    {
     "data": {
      "image/png": "[encoded data removed]",
      "text/plain": [
       "<Figure size 2160x720 with 1 Axes>"
      ]
     },
     "metadata": {
      "needs_background": "light"
     },
     "output_type": "display_data"
    }
   ],
   "source": [
    "from scipy.cluster.hierarchy import linkage, dendrogram\n",
    "\n",
    "mergings = linkage(Tabla_Frecuencias_Est, method='complete')\n",
    "\n",
    "\n",
    "\n",
    "plt.figure(figsize=(30, 10))\n",
    "dendrogram(mergings,\n",
    "           truncate_mode='lastp',\n",
    "           leaf_rotation=90,\n",
    "           leaf_font_size=15,\n",
    "           #annotate_above=10,\n",
    "           #max_d=1.3,\n",
    "           p=46\n",
    "           )\n",
    "plt.axhline(y=1.3, c='grey', lw=3, linestyle='dashed')\n",
    "plt.title('Dendograma de Clustering Jerarquico',size=40)\n",
    "plt.xlabel(\"Numero del Estudiante\",size=20)\n",
    "plt.ylabel('Distance',size=20)\n",
    "plt.show()"
   ]
  },
  {
   "cell_type": "markdown",
   "metadata": {},
   "source": [
    "Asignaremos el numero de cluster (3 grupos) a cada alumno segun la jeraquizacion usada:"
   ]
  },
  {
   "cell_type": "code",
   "execution_count": 674,
   "metadata": {},
   "outputs": [],
   "source": [
    "from scipy.cluster.hierarchy import fcluster\n",
    "k=3\n",
    "clusters = fcluster(mergings, k, criterion='maxclust')"
   ]
  },
  {
   "cell_type": "code",
   "execution_count": 682,
   "metadata": {},
   "outputs": [
    {
     "data": {
      "text/html": [
       "<div>\n",
       "<style scoped>\n",
       "    .dataframe tbody tr th:only-of-type {\n",
       "        vertical-align: middle;\n",
       "    }\n",
       "\n",
       "    .dataframe tbody tr th {\n",
       "        vertical-align: top;\n",
       "    }\n",
       "\n",
       "    .dataframe thead th {\n",
       "        text-align: right;\n",
       "    }\n",
       "</style>\n",
       "<table border=\"1\" class=\"dataframe\">\n",
       "  <thead>\n",
       "    <tr style=\"text-align: right;\">\n",
       "      <th></th>\n",
       "      <th>Grupo</th>\n",
       "      <th>Top 20 Palabras</th>\n",
       "    </tr>\n",
       "  </thead>\n",
       "  <tbody>\n",
       "    <tr>\n",
       "      <th>1</th>\n",
       "      <td>2</td>\n",
       "      <td>futur promedi individu funcional produccion i...</td>\n",
       "    </tr>\n",
       "    <tr>\n",
       "      <th>8</th>\n",
       "      <td>2</td>\n",
       "      <td>individu prim predec aument grand identific p...</td>\n",
       "    </tr>\n",
       "    <tr>\n",
       "      <th>9</th>\n",
       "      <td>2</td>\n",
       "      <td>promedi funcional produccion orden aument lar...</td>\n",
       "    </tr>\n",
       "    <tr>\n",
       "      <th>12</th>\n",
       "      <td>2</td>\n",
       "      <td>individu aument grand ellas identific obten l...</td>\n",
       "    </tr>\n",
       "    <tr>\n",
       "      <th>13</th>\n",
       "      <td>2</td>\n",
       "      <td>futur produccion prim predec aument identific...</td>\n",
       "    </tr>\n",
       "    <tr>\n",
       "      <th>16</th>\n",
       "      <td>2</td>\n",
       "      <td>futur promedi individu funcional predec grand...</td>\n",
       "    </tr>\n",
       "    <tr>\n",
       "      <th>17</th>\n",
       "      <td>2</td>\n",
       "      <td>futur individu funcional prim predec aument o...</td>\n",
       "    </tr>\n",
       "    <tr>\n",
       "      <th>19</th>\n",
       "      <td>2</td>\n",
       "      <td>us important produccion how orden grand index...</td>\n",
       "    </tr>\n",
       "    <tr>\n",
       "      <th>28</th>\n",
       "      <td>2</td>\n",
       "      <td>promedi individu funcional orden prim predec ...</td>\n",
       "    </tr>\n",
       "    <tr>\n",
       "      <th>29</th>\n",
       "      <td>2</td>\n",
       "      <td>futur produccion orden grand obten larg objet...</td>\n",
       "    </tr>\n",
       "    <tr>\n",
       "      <th>33</th>\n",
       "      <td>2</td>\n",
       "      <td>futur produccion predec grand identific podr ...</td>\n",
       "    </tr>\n",
       "    <tr>\n",
       "      <th>34</th>\n",
       "      <td>2</td>\n",
       "      <td>futur promedi individu prim predec aument gra...</td>\n",
       "    </tr>\n",
       "    <tr>\n",
       "      <th>37</th>\n",
       "      <td>2</td>\n",
       "      <td>promedi individu funcional produccion prim el...</td>\n",
       "    </tr>\n",
       "    <tr>\n",
       "      <th>39</th>\n",
       "      <td>2</td>\n",
       "      <td>promedi individu funcional prim predec aument...</td>\n",
       "    </tr>\n",
       "    <tr>\n",
       "      <th>41</th>\n",
       "      <td>2</td>\n",
       "      <td>futur promedi funcional produccion how prim a...</td>\n",
       "    </tr>\n",
       "    <tr>\n",
       "      <th>44</th>\n",
       "      <td>2</td>\n",
       "      <td>futur promedi funcional produccion orden prim...</td>\n",
       "    </tr>\n",
       "  </tbody>\n",
       "</table>\n",
       "</div>"
      ],
      "text/plain": [
       "    Grupo                                    Top 20 Palabras\n",
       "1       2   futur promedi individu funcional produccion i...\n",
       "8       2   individu prim predec aument grand identific p...\n",
       "9       2   promedi funcional produccion orden aument lar...\n",
       "12      2   individu aument grand ellas identific obten l...\n",
       "13      2   futur produccion prim predec aument identific...\n",
       "16      2   futur promedi individu funcional predec grand...\n",
       "17      2   futur individu funcional prim predec aument o...\n",
       "19      2   us important produccion how orden grand index...\n",
       "28      2   promedi individu funcional orden prim predec ...\n",
       "29      2   futur produccion orden grand obten larg objet...\n",
       "33      2   futur produccion predec grand identific podr ...\n",
       "34      2   futur promedi individu prim predec aument gra...\n",
       "37      2   promedi individu funcional produccion prim el...\n",
       "39      2   promedi individu funcional prim predec aument...\n",
       "41      2   futur promedi funcional produccion how prim a...\n",
       "44      2   futur promedi funcional produccion orden prim..."
      ]
     },
     "execution_count": 682,
     "metadata": {},
     "output_type": "execute_result"
    }
   ],
   "source": [
    "Grupos_Alumnos=pd.concat([pd.DataFrame(clusters),pd.DataFrame(Top_Words_by_Est)],axis=1)\n",
    "Grupos_Alumnos.columns = ['Grupo','Top 20 Palabras']\n",
    "Grupos_Alumnos.loc[Grupos_Alumnos.Grupo==2]"
   ]
  },
  {
   "cell_type": "markdown",
   "metadata": {},
   "source": [
    "## Conclusiones\n",
    "\n",
    "* Podemos evidenciar que el grupo #1 escribió la mayoria de sus articulos en ingles y busca resaltar en sus tareas la importancia de los temas de la misma en cada industria (frecuencia de la palabra \"important\").\n",
    "* Observando las caracteristicas de escritura del grupo #2, podemos ver que escribieron articulos tanto en ingles como en español y hacen referencia principalmente a que los temas tratados en las tareas son el futuro en cada una de sus industrias (frecuencia de la parabra \"futur\").\n",
    "* Al analizar el grupo #3, podemos ver que escribieron la mayoria de sus articulos en español y quiseron reflejar las aplicaciones relacionadas con los temas de las tareas en las areas propias (frecuencia de la palabra \"utilizan\")."
   ]
  },
  {
   "cell_type": "code",
   "execution_count": null,
   "metadata": {},
   "outputs": [],
   "source": []
  }
 ],
 "metadata": {
  "kernelspec": {
   "display_name": "Python 3",
   "language": "python",
   "name": "python3"
  },
  "language_info": {
   "codemirror_mode": {
    "name": "ipython",
    "version": 3
   },
   "file_extension": ".py",
   "mimetype": "text/x-python",
   "name": "python",
   "nbconvert_exporter": "python",
   "pygments_lexer": "ipython3",
   "version": "3.7.3"
  }
 },
 "nbformat": 4,
 "nbformat_minor": 4
}
